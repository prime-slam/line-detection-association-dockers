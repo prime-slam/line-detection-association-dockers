{
 "cells": [
  {
   "cell_type": "code",
   "execution_count": null,
   "metadata": {},
   "outputs": [],
   "source": [
    "import cv2, os\n",
    "from kht import kht\n",
    "from math import cos, sin, radians\n",
    "from matplotlib import pyplot as plt\n",
    "from os import path"
   ]
  },
  {
   "cell_type": "code",
   "execution_count": null,
   "metadata": {},
   "outputs": [],
   "source": [
    "# Sample image files and number of most relevant lines.\n",
    "base_folder = \"<the-directory-in-which-you-placed-kht-source-code>\"\n",
    "filenames = [\"simple.jpg\", \"chess.jpg\", \"road.jpg\", \"wall.jpg\", \"board.jpg\", \"church.jpg\", \"building.jpg\", \"beach.jpg\"]\n",
    "relevant_lines = [8, 25, 15, 36, 38, 40, 19, 19]"
   ]
  },
  {
   "cell_type": "code",
   "execution_count": null,
   "metadata": {},
   "outputs": [],
   "source": [
    "# Process each one of the images.\n",
    "for (filename, lines_count) in zip(filenames, relevant_lines):\n",
    "    # Load input image.\n",
    "    im = cv2.cvtColor(cv2.imread(path.join(base_folder, \"extra\", filename)), cv2.COLOR_BGR2RGB)\n",
    "    height, width, _ = im.shape\n",
    "\n",
    "    # Convert the input image to a binary edge image.\n",
    "    bw = cv2.Canny(cv2.cvtColor(im, cv2.COLOR_RGB2GRAY), 80, 200)\n",
    "\n",
    "    # Call the kernel-base Hough transform function.\n",
    "    lines = kht(bw)\n",
    "\n",
    "    # Show current image and its most relevant detected lines.\n",
    "    plt.imshow(im)\n",
    "\n",
    "    plt.title(\"KHT - Image '%s' - %d most relevant lines\" % (filename, lines_count))\n",
    "    plt.autoscale(enable=False)\n",
    "    plt.xticks([])\n",
    "    plt.yticks([])\n",
    "\n",
    "    for (rho, theta) in lines[:lines_count]:\n",
    "        theta = radians(theta)\n",
    "        cos_theta, sin_theta = cos(theta), sin(theta)\n",
    "\n",
    "        # Convert from KHT to Matplotlib's coordinate system conventions.\n",
    "        # The KHT implementation assumes row-major memory alignment for\n",
    "        # images. Also, it assumes that the origin of the image coordinate\n",
    "        # system is at the center of the image, with the x-axis growing to\n",
    "        # the right and the y-axis growing down.\n",
    "        if sin_theta != 0:\n",
    "            x = (-width / 2, width / 2 - 1)\n",
    "            y = ((rho - x[0] * cos_theta) / sin_theta, (rho - x[1] * cos_theta) / sin_theta)\n",
    "        else:\n",
    "            x = (rho, rho)\n",
    "            y = (-height / 2, height / 2 - 1)\n",
    "        x = (x[0] + width / 2, x[1] + width / 2)\n",
    "        y = (y[0] + height / 2, y[1] + height / 2)\n",
    "\n",
    "        plt.plot(x, y, color='yellow', linewidth=1.0)\n",
    "\n",
    "    plt.show()"
   ]
  }
 ],
 "metadata": {
  "kernelspec": {
   "display_name": "Python 3",
   "language": "python",
   "name": "python3"
  },
  "language_info": {
   "codemirror_mode": {
    "name": "ipython",
    "version": 3
   },
   "file_extension": ".py",
   "mimetype": "text/x-python",
   "name": "python",
   "nbconvert_exporter": "python",
   "pygments_lexer": "ipython3",
   "version": "3.7.1"
  }
 },
 "nbformat": 4,
 "nbformat_minor": 2
}
