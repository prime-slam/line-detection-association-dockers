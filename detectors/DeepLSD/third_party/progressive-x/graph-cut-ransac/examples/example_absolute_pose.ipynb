{
 "cells": [
  {
   "cell_type": "code",
   "execution_count": 6,
   "metadata": {},
   "outputs": [
    {
     "name": "stdout",
     "output_type": "stream",
     "text": [
      "Number of correspondences loaded =  95\n"
     ]
    }
   ],
   "source": [
    "import numpy as np\n",
    "import matplotlib.pyplot as plt\n",
    "import cv2\n",
    "import pygcransac\n",
    "from time import time\n",
    "\n",
    "correspondences = np.loadtxt('img/pose6dscene_points.txt')\n",
    "gt_pose = np.loadtxt('img/pose6dscene_gt.txt')\n",
    "intrinsic_params = np.loadtxt('img/pose6dscene.K')\n",
    "\n",
    "print(\"Number of correspondences loaded = \", str(len(correspondences)))"
   ]
  },
  {
   "cell_type": "code",
   "execution_count": 7,
   "metadata": {},
   "outputs": [],
   "source": [
    "def verify_pygcransac(corrs, K):    \n",
    "    n = len(correspondences)\n",
    "    imagePoints = np.float32([corrs[i][0:2] for i in np.arange(n)]).reshape(-1,2)\n",
    "    worldPoints = np.float32([corrs[i][2:5] for i in np.arange(n)]).reshape(-1,3)\n",
    "    \n",
    "    threshold = 5.5\n",
    "    normalized_threshold = threshold / (K[0, 0] + K[1, 1]) / 2.0;    \n",
    "    pose, mask = pygcransac.find6DPose(\n",
    "        np.ascontiguousarray(imagePoints), # 2D points in the image\n",
    "        np.ascontiguousarray(worldPoints), # 3D points in the world\n",
    "        probabilities = [], # Inlier probabilities. This is not used if the sampler is not 3 (NG-RANSAC) or 4 (AR-Sampler)\n",
    "        sampler = 0, # Sampler index (0 - Uniform, 1 - PROSAC, 2 - P-NAPSAC, 3 - NG-RANSAC, 4 - AR-Sampler)\n",
    "        threshold = normalized_threshold,  # Inlier-outlier threshold\n",
    "        conf = 0.999) # RANSAC confidence\n",
    "    return pose, mask\n",
    "\n",
    "def normalize_image_points(corrs, K): \n",
    "    n = len(corrs)\n",
    "    normalized_correspondences = np.zeros((corrs.shape[0], 5))\n",
    "    inv_K = np.linalg.inv(K)\n",
    "\n",
    "    for i in range(n):\n",
    "        p1 = np.append(correspondences[i][0:2], 1)\n",
    "        p2 = inv_K.dot(p1)\n",
    "        normalized_correspondences[i][0:2] = p2[0:2]\n",
    "        normalized_correspondences[i][2:] = correspondences[i][2:]\n",
    "    return normalized_correspondences\n",
    "\n",
    "def calculate_error(gt_pose, est_pose):\n",
    "    \n",
    "    R2R1 = np.dot(gt_pose[:, 0:3].T, est_pose[:, 0:3])\n",
    "    cos_angle = max(-1.0, min(1.0, 0.5 * (R2R1.trace() - 1.0)))\n",
    "    \n",
    "    err_R = np.arccos(cos_angle) * 180.0 / np.pi\n",
    "    err_t = np.linalg.norm(gt_pose[:, 3] - est_pose[:, 3])\n",
    "    \n",
    "    return err_R, err_t\n"
   ]
  },
  {
   "cell_type": "code",
   "execution_count": 8,
   "metadata": {},
   "outputs": [
    {
     "name": "stdout",
     "output_type": "stream",
     "text": [
      "0.0123291015625  sec gc-ransac\n",
      "Rotation error =  1.8783020217535148e-05 °\n",
      "Translation error =  0.0001007179771463513  mm\n"
     ]
    }
   ],
   "source": [
    "normalized_correspondences = normalize_image_points(correspondences, intrinsic_params)\n",
    "\n",
    "t = time()\n",
    "\n",
    "mag_pose, mag_mask = verify_pygcransac(normalized_correspondences, intrinsic_params)\n",
    "print (time()-t, ' sec gc-ransac')\n",
    "\n",
    "err_R, err_t = calculate_error(gt_pose, mag_pose)\n",
    "\n",
    "print ('Rotation error = ', err_R, '°')\n",
    "print ('Translation error = ', err_t, ' mm')"
   ]
  },
  {
   "cell_type": "code",
   "execution_count": null,
   "metadata": {},
   "outputs": [],
   "source": []
  }
 ],
 "metadata": {
  "interpreter": {
   "hash": "a5e39735f912ce99728f0b241980685852626523db623ebea0ace59769319ada"
  },
  "kernelspec": {
   "display_name": "Python 3.7.11 64-bit ('poselib': conda)",
   "name": "python3"
  },
  "language_info": {
   "codemirror_mode": {
    "name": "ipython",
    "version": 3
   },
   "file_extension": ".py",
   "mimetype": "text/x-python",
   "name": "python",
   "nbconvert_exporter": "python",
   "pygments_lexer": "ipython3",
   "version": "3.8.12"
  }
 },
 "nbformat": 4,
 "nbformat_minor": 4
}
